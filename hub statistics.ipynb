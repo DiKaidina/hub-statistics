{
 "cells": [
  {
   "cell_type": "code",
   "execution_count": 1,
   "metadata": {},
   "outputs": [],
   "source": [
    "import pandas as pd\n",
    "import seaborn as sns\n",
    "import numpy as np\n",
    "import matplotlib.pyplot as plt\n",
    "from sklearn import tree\n",
    "%matplotlib inline\n"
   ]
  },
  {
   "cell_type": "code",
   "execution_count": 2,
   "metadata": {},
   "outputs": [
    {
     "data": {
      "text/html": [
       "<div>\n",
       "<style scoped>\n",
       "    .dataframe tbody tr th:only-of-type {\n",
       "        vertical-align: middle;\n",
       "    }\n",
       "\n",
       "    .dataframe tbody tr th {\n",
       "        vertical-align: top;\n",
       "    }\n",
       "\n",
       "    .dataframe thead th {\n",
       "        text-align: right;\n",
       "    }\n",
       "</style>\n",
       "<table border=\"1\" class=\"dataframe\">\n",
       "  <thead>\n",
       "    <tr style=\"text-align: right;\">\n",
       "      <th></th>\n",
       "      <th>Отметка времени</th>\n",
       "      <th>Пол</th>\n",
       "      <th>Возраст</th>\n",
       "      <th>Выберите цвет, который нравится вам больше</th>\n",
       "      <th>Ваше хобби</th>\n",
       "      <th>Как много у вас свободного времени в неделю?</th>\n",
       "      <th>Как предпочитаете проводить свободное время?</th>\n",
       "      <th>Как часто вы бы смогли посещать мероприятия внутри сообщества?</th>\n",
       "      <th>Как удобнее вам посещать наши мероприятия?</th>\n",
       "      <th>Какого рода ивенты вы бы обязательно посетили?</th>\n",
       "      <th>...</th>\n",
       "      <th>Как часто вы занимаетесь самообразованием?</th>\n",
       "      <th>Как часто вы читаете новости?</th>\n",
       "      <th>Какой род новостей вам интересен?</th>\n",
       "      <th>Считаете ли вы себя креативным человеком ?</th>\n",
       "      <th>Имели/имеете ли вы опыт в трудовой деятельности?</th>\n",
       "      <th>На какой социальной площадке вы проводите большую часть своего времени?</th>\n",
       "      <th>Как долго вы проводите время за экранами смартфонов/компьютеров за сутки?</th>\n",
       "      <th>Смотрите ли вы научно-популярные программы?</th>\n",
       "      <th>Что для вас в приоритете при совершении покупок?</th>\n",
       "      <th>Попробуйте описать Hub в двух словах</th>\n",
       "    </tr>\n",
       "  </thead>\n",
       "  <tbody>\n",
       "    <tr>\n",
       "      <th>48</th>\n",
       "      <td>2021-10-13 09:40:14.568</td>\n",
       "      <td>Мужской</td>\n",
       "      <td>17</td>\n",
       "      <td>Фиолетовый</td>\n",
       "      <td>NaN</td>\n",
       "      <td>3-5 часов</td>\n",
       "      <td>В компании нескольких друзей</td>\n",
       "      <td>Раз в неделю</td>\n",
       "      <td>Онлайн</td>\n",
       "      <td>Оба варианта мне подходят</td>\n",
       "      <td>...</td>\n",
       "      <td>Иногда</td>\n",
       "      <td>Каждый день</td>\n",
       "      <td>Социальные</td>\n",
       "      <td>Нет</td>\n",
       "      <td>Нет, не имел(а)</td>\n",
       "      <td>YouTube</td>\n",
       "      <td>От четырех до шести часов</td>\n",
       "      <td>Не смотрю</td>\n",
       "      <td>Удобство</td>\n",
       "      <td>подпольная организация</td>\n",
       "    </tr>\n",
       "    <tr>\n",
       "      <th>49</th>\n",
       "      <td>2021-10-13 09:52:22.698</td>\n",
       "      <td>Мужской</td>\n",
       "      <td>18</td>\n",
       "      <td>Красный</td>\n",
       "      <td>снимать на телефон</td>\n",
       "      <td>5-7 часов</td>\n",
       "      <td>В компании нескольких друзей</td>\n",
       "      <td>Раз в неделю</td>\n",
       "      <td>Офлайн</td>\n",
       "      <td>Оба варианта мне подходят</td>\n",
       "      <td>...</td>\n",
       "      <td>Иногда</td>\n",
       "      <td>Каждый день</td>\n",
       "      <td>фаст фуд новости</td>\n",
       "      <td>Да</td>\n",
       "      <td>Нет, не имел(а)</td>\n",
       "      <td>Instagram</td>\n",
       "      <td>Очень долго</td>\n",
       "      <td>Иногда</td>\n",
       "      <td>Функциональность</td>\n",
       "      <td>отличная возможность</td>\n",
       "    </tr>\n",
       "    <tr>\n",
       "      <th>50</th>\n",
       "      <td>2021-10-13 09:54:05.345</td>\n",
       "      <td>Мужской</td>\n",
       "      <td>17</td>\n",
       "      <td>Синий</td>\n",
       "      <td>Играть на укулеле и футбол</td>\n",
       "      <td>Меньше пары часов</td>\n",
       "      <td>В компании нескольких друзей</td>\n",
       "      <td>Всегда</td>\n",
       "      <td>Онлайн</td>\n",
       "      <td>Образовательные</td>\n",
       "      <td>...</td>\n",
       "      <td>Часто</td>\n",
       "      <td>Раз в неделю</td>\n",
       "      <td>Социальные</td>\n",
       "      <td>Да</td>\n",
       "      <td>Нет, не имел(а)</td>\n",
       "      <td>TikTok</td>\n",
       "      <td>От двух до четырех часов</td>\n",
       "      <td>Иногда</td>\n",
       "      <td>Функциональность</td>\n",
       "      <td>Возможности, развитие</td>\n",
       "    </tr>\n",
       "    <tr>\n",
       "      <th>51</th>\n",
       "      <td>2021-10-13 10:05:56.728</td>\n",
       "      <td>Женский</td>\n",
       "      <td>17</td>\n",
       "      <td>Фиолетовый</td>\n",
       "      <td>Читать манги/книги в основном классику, рисова...</td>\n",
       "      <td>Меньше пары часов</td>\n",
       "      <td>В шумной компании</td>\n",
       "      <td>Раз в неделю</td>\n",
       "      <td>Офлайн</td>\n",
       "      <td>Оба варианта мне подходят</td>\n",
       "      <td>...</td>\n",
       "      <td>Часто</td>\n",
       "      <td>Раз в неделю</td>\n",
       "      <td>Социальные</td>\n",
       "      <td>Да</td>\n",
       "      <td>Нет, не имел(а)</td>\n",
       "      <td>Instagram</td>\n",
       "      <td>От двух до четырех часов</td>\n",
       "      <td>Да</td>\n",
       "      <td>Удобство</td>\n",
       "      <td>Креативная организация</td>\n",
       "    </tr>\n",
       "    <tr>\n",
       "      <th>52</th>\n",
       "      <td>2021-10-13 10:24:11.897</td>\n",
       "      <td>Мужской</td>\n",
       "      <td>17</td>\n",
       "      <td>Синий</td>\n",
       "      <td>Учить JavaScript</td>\n",
       "      <td>3-5 часов</td>\n",
       "      <td>В одиночестве</td>\n",
       "      <td>Раз в неделю</td>\n",
       "      <td>Офлайн</td>\n",
       "      <td>Оба варианта мне подходят</td>\n",
       "      <td>...</td>\n",
       "      <td>Часто</td>\n",
       "      <td>Не читаю</td>\n",
       "      <td>Социальные</td>\n",
       "      <td>Да</td>\n",
       "      <td>Нет, не имел(а)</td>\n",
       "      <td>YouTube</td>\n",
       "      <td>Очень долго</td>\n",
       "      <td>Редко</td>\n",
       "      <td>Удобство</td>\n",
       "      <td>Гачи хаб</td>\n",
       "    </tr>\n",
       "    <tr>\n",
       "      <th>53</th>\n",
       "      <td>2021-10-13 10:50:36.543</td>\n",
       "      <td>Мужской</td>\n",
       "      <td>18</td>\n",
       "      <td>Фиолетовый</td>\n",
       "      <td>Манга, книги, научные документации и плюс прог...</td>\n",
       "      <td>Больше 7 часов</td>\n",
       "      <td>В одиночестве</td>\n",
       "      <td>Раз в неделю</td>\n",
       "      <td>Офлайн</td>\n",
       "      <td>Оба варианта мне подходят</td>\n",
       "      <td>...</td>\n",
       "      <td>Постоянно</td>\n",
       "      <td>Каждый день</td>\n",
       "      <td>Социальные</td>\n",
       "      <td>Нет</td>\n",
       "      <td>Нет, не имел(а)</td>\n",
       "      <td>Телеге очень редко, а так не пользуюсь социаль...</td>\n",
       "      <td>От двух до четырех часов</td>\n",
       "      <td>Да</td>\n",
       "      <td>Функциональность</td>\n",
       "      <td>Сборище умных, развивающих чуваков.</td>\n",
       "    </tr>\n",
       "    <tr>\n",
       "      <th>54</th>\n",
       "      <td>2021-10-13 10:52:43.912</td>\n",
       "      <td>Мужской</td>\n",
       "      <td>18</td>\n",
       "      <td>Синий</td>\n",
       "      <td>Велосипед</td>\n",
       "      <td>3-5 часов</td>\n",
       "      <td>В компании нескольких друзей</td>\n",
       "      <td>Раз в месяц</td>\n",
       "      <td>Офлайн</td>\n",
       "      <td>Образовательные</td>\n",
       "      <td>...</td>\n",
       "      <td>Часто</td>\n",
       "      <td>Каждый день</td>\n",
       "      <td>Профессиональный</td>\n",
       "      <td>Нет</td>\n",
       "      <td>Нет, не имел(а)</td>\n",
       "      <td>Instagram</td>\n",
       "      <td>От часа до двух часов</td>\n",
       "      <td>Иногда</td>\n",
       "      <td>Удобство</td>\n",
       "      <td>Шанс для айтишников в Политехе</td>\n",
       "    </tr>\n",
       "    <tr>\n",
       "      <th>55</th>\n",
       "      <td>2021-10-13 12:02:01.442</td>\n",
       "      <td>Мужской</td>\n",
       "      <td>18</td>\n",
       "      <td>Черный</td>\n",
       "      <td>Аниме,Манга, Манхуа,Манхвы,игры с жанром страт...</td>\n",
       "      <td>3-5 часов</td>\n",
       "      <td>В компании нескольких друзей</td>\n",
       "      <td>Раз в неделю</td>\n",
       "      <td>Офлайн</td>\n",
       "      <td>Оба варианта мне подходят</td>\n",
       "      <td>...</td>\n",
       "      <td>Иногда</td>\n",
       "      <td>Раз в неделю</td>\n",
       "      <td>Информационный</td>\n",
       "      <td>Да</td>\n",
       "      <td>Нет, не имел(а)</td>\n",
       "      <td>Mangalib.ru</td>\n",
       "      <td>От двух до четырех часов</td>\n",
       "      <td>Да</td>\n",
       "      <td>Удобство</td>\n",
       "      <td>Хорошое общение, интресные мероприятия</td>\n",
       "    </tr>\n",
       "    <tr>\n",
       "      <th>56</th>\n",
       "      <td>2021-10-13 15:09:28.004</td>\n",
       "      <td>Мужской</td>\n",
       "      <td>17</td>\n",
       "      <td>Белый</td>\n",
       "      <td>Читаю книги, люблю подкасты, топлю за саморазв...</td>\n",
       "      <td>Больше 7 часов</td>\n",
       "      <td>В компании нескольких друзей</td>\n",
       "      <td>Всегда</td>\n",
       "      <td>Онлайн</td>\n",
       "      <td>Оба варианта мне подходят</td>\n",
       "      <td>...</td>\n",
       "      <td>Часто</td>\n",
       "      <td>Не читаю</td>\n",
       "      <td>Социальные</td>\n",
       "      <td>Да</td>\n",
       "      <td>Да, но на данный момент ничем не занимаюсь</td>\n",
       "      <td>Instagram</td>\n",
       "      <td>От четырех до шести часов</td>\n",
       "      <td>Да</td>\n",
       "      <td>Удобство</td>\n",
       "      <td>пока не сильно ознакомился, интересные, много...</td>\n",
       "    </tr>\n",
       "    <tr>\n",
       "      <th>57</th>\n",
       "      <td>2021-10-13 22:06:03.052</td>\n",
       "      <td>Мужской</td>\n",
       "      <td>17</td>\n",
       "      <td>Черный</td>\n",
       "      <td>видеосъёмка</td>\n",
       "      <td>3-5 часов</td>\n",
       "      <td>В шумной компании</td>\n",
       "      <td>Раз в неделю</td>\n",
       "      <td>Офлайн</td>\n",
       "      <td>Развлекательные</td>\n",
       "      <td>...</td>\n",
       "      <td>Редко</td>\n",
       "      <td>Раз в месяц</td>\n",
       "      <td>Социальные</td>\n",
       "      <td>Нет</td>\n",
       "      <td>Да, на данный момент работаю/подрабатываю</td>\n",
       "      <td>Instagram</td>\n",
       "      <td>Очень долго</td>\n",
       "      <td>Иногда</td>\n",
       "      <td>Функциональность</td>\n",
       "      <td>лучший хаб</td>\n",
       "    </tr>\n",
       "  </tbody>\n",
       "</table>\n",
       "<p>10 rows × 21 columns</p>\n",
       "</div>"
      ],
      "text/plain": [
       "           Отметка времени      Пол Возраст  \\\n",
       "48 2021-10-13 09:40:14.568  Мужской      17   \n",
       "49 2021-10-13 09:52:22.698  Мужской      18   \n",
       "50 2021-10-13 09:54:05.345  Мужской      17   \n",
       "51 2021-10-13 10:05:56.728  Женский      17   \n",
       "52 2021-10-13 10:24:11.897  Мужской      17   \n",
       "53 2021-10-13 10:50:36.543  Мужской      18   \n",
       "54 2021-10-13 10:52:43.912  Мужской      18   \n",
       "55 2021-10-13 12:02:01.442  Мужской      18   \n",
       "56 2021-10-13 15:09:28.004  Мужской      17   \n",
       "57 2021-10-13 22:06:03.052  Мужской      17   \n",
       "\n",
       "   Выберите цвет, который нравится вам больше  \\\n",
       "48                                 Фиолетовый   \n",
       "49                                    Красный   \n",
       "50                                      Синий   \n",
       "51                                 Фиолетовый   \n",
       "52                                      Синий   \n",
       "53                                 Фиолетовый   \n",
       "54                                      Синий   \n",
       "55                                     Черный   \n",
       "56                                      Белый   \n",
       "57                                     Черный   \n",
       "\n",
       "                                           Ваше хобби  \\\n",
       "48                                                NaN   \n",
       "49                                 снимать на телефон   \n",
       "50                         Играть на укулеле и футбол   \n",
       "51  Читать манги/книги в основном классику, рисова...   \n",
       "52                                   Учить JavaScript   \n",
       "53  Манга, книги, научные документации и плюс прог...   \n",
       "54                                          Велосипед   \n",
       "55  Аниме,Манга, Манхуа,Манхвы,игры с жанром страт...   \n",
       "56  Читаю книги, люблю подкасты, топлю за саморазв...   \n",
       "57                                       видеосъёмка    \n",
       "\n",
       "   Как много у вас свободного времени в неделю?  \\\n",
       "48                                    3-5 часов   \n",
       "49                                    5-7 часов   \n",
       "50                            Меньше пары часов   \n",
       "51                            Меньше пары часов   \n",
       "52                                    3-5 часов   \n",
       "53                               Больше 7 часов   \n",
       "54                                    3-5 часов   \n",
       "55                                    3-5 часов   \n",
       "56                               Больше 7 часов   \n",
       "57                                    3-5 часов   \n",
       "\n",
       "   Как предпочитаете проводить свободное время?  \\\n",
       "48                 В компании нескольких друзей   \n",
       "49                 В компании нескольких друзей   \n",
       "50                 В компании нескольких друзей   \n",
       "51                            В шумной компании   \n",
       "52                                В одиночестве   \n",
       "53                                В одиночестве   \n",
       "54                 В компании нескольких друзей   \n",
       "55                 В компании нескольких друзей   \n",
       "56                 В компании нескольких друзей   \n",
       "57                            В шумной компании   \n",
       "\n",
       "   Как часто вы бы смогли посещать мероприятия внутри сообщества?  \\\n",
       "48                                       Раз в неделю               \n",
       "49                                       Раз в неделю               \n",
       "50                                             Всегда               \n",
       "51                                       Раз в неделю               \n",
       "52                                       Раз в неделю               \n",
       "53                                       Раз в неделю               \n",
       "54                                        Раз в месяц               \n",
       "55                                       Раз в неделю               \n",
       "56                                             Всегда               \n",
       "57                                       Раз в неделю               \n",
       "\n",
       "   Как удобнее вам посещать наши мероприятия?  \\\n",
       "48                                     Онлайн   \n",
       "49                                     Офлайн   \n",
       "50                                     Онлайн   \n",
       "51                                     Офлайн   \n",
       "52                                     Офлайн   \n",
       "53                                     Офлайн   \n",
       "54                                     Офлайн   \n",
       "55                                     Офлайн   \n",
       "56                                     Онлайн   \n",
       "57                                     Офлайн   \n",
       "\n",
       "   Какого рода ивенты вы бы обязательно посетили?   ...  \\\n",
       "48                       Оба варианта мне подходят  ...   \n",
       "49                       Оба варианта мне подходят  ...   \n",
       "50                                 Образовательные  ...   \n",
       "51                       Оба варианта мне подходят  ...   \n",
       "52                       Оба варианта мне подходят  ...   \n",
       "53                       Оба варианта мне подходят  ...   \n",
       "54                                 Образовательные  ...   \n",
       "55                       Оба варианта мне подходят  ...   \n",
       "56                       Оба варианта мне подходят  ...   \n",
       "57                                 Развлекательные  ...   \n",
       "\n",
       "   Как часто вы занимаетесь самообразованием? Как часто вы читаете новости?  \\\n",
       "48                                     Иногда                   Каждый день   \n",
       "49                                     Иногда                   Каждый день   \n",
       "50                                      Часто                  Раз в неделю   \n",
       "51                                      Часто                  Раз в неделю   \n",
       "52                                      Часто                      Не читаю   \n",
       "53                                  Постоянно                   Каждый день   \n",
       "54                                      Часто                   Каждый день   \n",
       "55                                     Иногда                  Раз в неделю   \n",
       "56                                      Часто                      Не читаю   \n",
       "57                                      Редко                   Раз в месяц   \n",
       "\n",
       "   Какой род новостей вам интересен?  \\\n",
       "48                        Социальные   \n",
       "49                  фаст фуд новости   \n",
       "50                        Социальные   \n",
       "51                        Социальные   \n",
       "52                        Социальные   \n",
       "53                        Социальные   \n",
       "54                  Профессиональный   \n",
       "55                    Информационный   \n",
       "56                        Социальные   \n",
       "57                        Социальные   \n",
       "\n",
       "   Считаете ли вы себя креативным человеком ?  \\\n",
       "48                                        Нет   \n",
       "49                                         Да   \n",
       "50                                         Да   \n",
       "51                                         Да   \n",
       "52                                         Да   \n",
       "53                                        Нет   \n",
       "54                                        Нет   \n",
       "55                                         Да   \n",
       "56                                         Да   \n",
       "57                                        Нет   \n",
       "\n",
       "   Имели/имеете ли вы опыт в трудовой деятельности?  \\\n",
       "48                                  Нет, не имел(а)   \n",
       "49                                  Нет, не имел(а)   \n",
       "50                                  Нет, не имел(а)   \n",
       "51                                  Нет, не имел(а)   \n",
       "52                                  Нет, не имел(а)   \n",
       "53                                  Нет, не имел(а)   \n",
       "54                                  Нет, не имел(а)   \n",
       "55                                  Нет, не имел(а)   \n",
       "56       Да, но на данный момент ничем не занимаюсь   \n",
       "57        Да, на данный момент работаю/подрабатываю   \n",
       "\n",
       "   На какой социальной площадке вы проводите большую часть своего времени?  \\\n",
       "48                                            YouTube                        \n",
       "49                                          Instagram                        \n",
       "50                                             TikTok                        \n",
       "51                                          Instagram                        \n",
       "52                                            YouTube                        \n",
       "53  Телеге очень редко, а так не пользуюсь социаль...                        \n",
       "54                                          Instagram                        \n",
       "55                                        Mangalib.ru                        \n",
       "56                                          Instagram                        \n",
       "57                                          Instagram                        \n",
       "\n",
       "   Как долго вы проводите время за экранами смартфонов/компьютеров за сутки?  \\\n",
       "48                          От четырех до шести часов                          \n",
       "49                                        Очень долго                          \n",
       "50                           От двух до четырех часов                          \n",
       "51                           От двух до четырех часов                          \n",
       "52                                        Очень долго                          \n",
       "53                           От двух до четырех часов                          \n",
       "54                              От часа до двух часов                          \n",
       "55                           От двух до четырех часов                          \n",
       "56                          От четырех до шести часов                          \n",
       "57                                        Очень долго                          \n",
       "\n",
       "   Смотрите ли вы научно-популярные программы?  \\\n",
       "48                                   Не смотрю   \n",
       "49                                      Иногда   \n",
       "50                                      Иногда   \n",
       "51                                          Да   \n",
       "52                                       Редко   \n",
       "53                                          Да   \n",
       "54                                      Иногда   \n",
       "55                                          Да   \n",
       "56                                          Да   \n",
       "57                                      Иногда   \n",
       "\n",
       "   Что для вас в приоритете при совершении покупок?  \\\n",
       "48                                         Удобство   \n",
       "49                                 Функциональность   \n",
       "50                                 Функциональность   \n",
       "51                                         Удобство   \n",
       "52                                         Удобство   \n",
       "53                                 Функциональность   \n",
       "54                                         Удобство   \n",
       "55                                         Удобство   \n",
       "56                                         Удобство   \n",
       "57                                 Функциональность   \n",
       "\n",
       "                 Попробуйте описать Hub в двух словах  \n",
       "48                             подпольная организация  \n",
       "49                               отличная возможность  \n",
       "50                              Возможности, развитие  \n",
       "51                            Креативная организация   \n",
       "52                                           Гачи хаб  \n",
       "53                Сборище умных, развивающих чуваков.  \n",
       "54                     Шанс для айтишников в Политехе  \n",
       "55             Хорошое общение, интресные мероприятия  \n",
       "56   пока не сильно ознакомился, интересные, много...  \n",
       "57                                         лучший хаб  \n",
       "\n",
       "[10 rows x 21 columns]"
      ]
     },
     "execution_count": 2,
     "metadata": {},
     "output_type": "execute_result"
    }
   ],
   "source": [
    "data = pd.read_excel('form.xlsx')\n",
    "\n",
    "data.tail(10)"
   ]
  },
  {
   "cell_type": "markdown",
   "metadata": {},
   "source": [
    "# Статистика однотипных данных "
   ]
  },
  {
   "cell_type": "code",
   "execution_count": 3,
   "metadata": {},
   "outputs": [
    {
     "data": {
      "text/plain": [
       "Мужской       32\n",
       "Женский       24\n",
       "Воздержусь     2\n",
       "Name: Пол, dtype: int64"
      ]
     },
     "execution_count": 3,
     "metadata": {},
     "output_type": "execute_result"
    }
   ],
   "source": [
    "pd.value_counts(data['Пол']) #мужчин в хабе чуть больше "
   ]
  },
  {
   "cell_type": "code",
   "execution_count": 4,
   "metadata": {},
   "outputs": [
    {
     "data": {
      "text/plain": [
       "18     21\n",
       "17     18\n",
       "19     10\n",
       "20+     9\n",
       "Name: Возраст, dtype: int64"
      ]
     },
     "execution_count": 4,
     "metadata": {},
     "output_type": "execute_result"
    }
   ],
   "source": [
    "pd.value_counts(data['Возраст']) #большинство перваши 17-18 лет"
   ]
  },
  {
   "cell_type": "code",
   "execution_count": 21,
   "metadata": {},
   "outputs": [
    {
     "data": {
      "image/png": "[encoded data removed]",
      "text/plain": [
       "<Figure size 432x288 with 1 Axes>"
      ]
     },
     "metadata": {
      "needs_background": "light"
     },
     "output_type": "display_data"
    }
   ],
   "source": [
    "hist_plot = data['Выберите цвет, который нравится вам больше'].hist(bins = 13) #большинству \n",
    "#нравится либо черный, либо холодные цвета"
   ]
  },
  {
   "cell_type": "code",
   "execution_count": 6,
   "metadata": {},
   "outputs": [
    {
     "data": {
      "text/plain": [
       "3-5 часов            28\n",
       "Больше 7 часов       14\n",
       "5-7 часов            11\n",
       "Меньше пары часов     4\n",
       "Name: Как много у вас свободного времени в неделю?, dtype: int64"
      ]
     },
     "execution_count": 6,
     "metadata": {},
     "output_type": "execute_result"
    }
   ],
   "source": [
    "pd.value_counts(data['Как много у вас свободного времени в неделю?'])"
   ]
  },
  {
   "cell_type": "code",
   "execution_count": 22,
   "metadata": {},
   "outputs": [
    {
     "data": {
      "text/plain": [
       "Text(0, 0.5, 'Количество человек')"
      ]
     },
     "execution_count": 22,
     "metadata": {},
     "output_type": "execute_result"
    },
    {
     "data": {
      "image/png": "[encoded data removed]",
      "text/plain": [
       "<Figure size 432x288 with 1 Axes>"
      ]
     },
     "metadata": {
      "needs_background": "light"
     },
     "output_type": "display_data"
    }
   ],
   "source": [
    "hist_plot = data['Как много у вас свободного времени в неделю?'].hist(bins = 9,color = \"purple\")\n",
    "hist_plot.set_title('Свободное время в неделю')\n",
    "hist_plot.set_ylabel('Количество человек')"
   ]
  },
  {
   "cell_type": "code",
   "execution_count": 8,
   "metadata": {},
   "outputs": [
    {
     "data": {
      "text/plain": [
       "В компании нескольких друзей    41\n",
       "В одиночестве                   11\n",
       "В шумной компании                6\n",
       "Name: Как предпочитаете проводить свободное время?, dtype: int64"
      ]
     },
     "execution_count": 8,
     "metadata": {},
     "output_type": "execute_result"
    }
   ],
   "source": [
    "pd.value_counts(data['Как предпочитаете проводить свободное время?'])"
   ]
  },
  {
   "cell_type": "code",
   "execution_count": 24,
   "metadata": {},
   "outputs": [
    {
     "data": {
      "text/plain": [
       "Text(0, 0.5, 'Количество человек')"
      ]
     },
     "execution_count": 24,
     "metadata": {},
     "output_type": "execute_result"
    },
    {
     "data": {
      "image/png": "[encoded data removed]",
      "text/plain": [
       "<Figure size 432x288 with 1 Axes>"
      ]
     },
     "metadata": {
      "needs_background": "light"
     },
     "output_type": "display_data"
    }
   ],
   "source": [
    "hist_plot = data['Как предпочитаете проводить свободное время?'].hist(bins = 9,color = \"green\")\n",
    "hist_plot.set_ylabel('Количество человек')"
   ]
  },
  {
   "cell_type": "code",
   "execution_count": 10,
   "metadata": {},
   "outputs": [
    {
     "data": {
      "text/plain": [
       "Раз в неделю    35\n",
       "Всегда          17\n",
       "Раз в месяц      4\n",
       "Нет времени      1\n",
       "Name: Как часто вы бы смогли посещать мероприятия внутри сообщества?, dtype: int64"
      ]
     },
     "execution_count": 10,
     "metadata": {},
     "output_type": "execute_result"
    }
   ],
   "source": [
    "pd.value_counts(data['Как часто вы бы смогли посещать мероприятия внутри сообщества?'])"
   ]
  },
  {
   "cell_type": "code",
   "execution_count": 11,
   "metadata": {},
   "outputs": [
    {
     "data": {
      "text/plain": [
       "Офлайн    46\n",
       "Онлайн    11\n",
       "Name: Как удобнее вам посещать наши мероприятия?, dtype: int64"
      ]
     },
     "execution_count": 11,
     "metadata": {},
     "output_type": "execute_result"
    }
   ],
   "source": [
    "pd.value_counts(data['Как удобнее вам посещать наши мероприятия?'])"
   ]
  },
  {
   "cell_type": "code",
   "execution_count": 25,
   "metadata": {},
   "outputs": [
    {
     "data": {
      "text/plain": [
       "Text(0, 0.5, 'Количество человек')"
      ]
     },
     "execution_count": 25,
     "metadata": {},
     "output_type": "execute_result"
    },
    {
     "data": {
      "image/png": "[encoded data removed]",
      "text/plain": [
       "<Figure size 432x288 with 1 Axes>"
      ]
     },
     "metadata": {
      "needs_background": "light"
     },
     "output_type": "display_data"
    }
   ],
   "source": [
    "hist_plot = data['Как удобнее вам посещать наши мероприятия?'].hist(bins = 8)\n",
    "hist_plot.set_title('Как удобнее вам посещать наши мероприятия?')\n",
    "hist_plot.set_ylabel('Количество человек')"
   ]
  },
  {
   "cell_type": "code",
   "execution_count": 26,
   "metadata": {},
   "outputs": [
    {
     "data": {
      "text/plain": [
       "Text(0, 0.5, 'Количество человек')"
      ]
     },
     "execution_count": 26,
     "metadata": {},
     "output_type": "execute_result"
    },
    {
     "data": {
      "image/png": "[encoded data removed]",
      "text/plain": [
       "<Figure size 432x288 with 1 Axes>"
      ]
     },
     "metadata": {
      "needs_background": "light"
     },
     "output_type": "display_data"
    }
   ],
   "source": [
    "hist_plot = data['Как часто вы занимаетесь самообразованием?'].hist(bins = 8,color = \"pink\")\n",
    "hist_plot.set_title('Как часто вы занимаетесь самообразованием?')\n",
    "hist_plot.set_ylabel('Количество человек')"
   ]
  },
  {
   "cell_type": "code",
   "execution_count": 15,
   "metadata": {},
   "outputs": [
    {
     "data": {
      "text/plain": [
       "Index(['Отметка времени', 'Пол', 'Возраст',\n",
       "       'Выберите цвет, который нравится вам больше', 'Ваше хобби',\n",
       "       'Как много у вас свободного времени в неделю?',\n",
       "       'Как предпочитаете проводить свободное время?',\n",
       "       'Как часто вы бы смогли посещать мероприятия внутри сообщества?',\n",
       "       'Как удобнее вам посещать наши мероприятия?',\n",
       "       'Какого рода ивенты вы бы обязательно посетили? ',\n",
       "       'Каким транспортом чаще всего пользуетесь?',\n",
       "       'Как часто вы занимаетесь самообразованием?',\n",
       "       'Как часто вы читаете новости?', 'Какой род новостей вам интересен?',\n",
       "       'Считаете ли вы себя креативным человеком ?',\n",
       "       'Имели/имеете ли вы опыт в трудовой деятельности?',\n",
       "       'На какой социальной площадке вы проводите большую часть своего времени?',\n",
       "       'Как долго вы проводите время за экранами смартфонов/компьютеров за сутки?',\n",
       "       'Смотрите ли вы научно-популярные программы?',\n",
       "       'Что для вас в приоритете при совершении покупок?',\n",
       "       'Попробуйте описать Hub в двух словах'],\n",
       "      dtype='object')"
      ]
     },
     "execution_count": 15,
     "metadata": {},
     "output_type": "execute_result"
    }
   ],
   "source": [
    "data.columns "
   ]
  },
  {
   "cell_type": "code",
   "execution_count": 17,
   "metadata": {
    "scrolled": true
   },
   "outputs": [
    {
     "data": {
      "text/plain": [
       "Text(0, 0.5, 'Количество человек')"
      ]
     },
     "execution_count": 17,
     "metadata": {},
     "output_type": "execute_result"
    },
    {
     "data": {
      "image/png": "[encoded data removed]",
      "text/plain": [
       "<Figure size 432x288 with 1 Axes>"
      ]
     },
     "metadata": {
      "needs_background": "light"
     },
     "output_type": "display_data"
    }
   ],
   "source": [
    "hist_plot = data['Какого рода ивенты вы бы обязательно посетили? '].hist(bins = 10,color = \"black\")\n",
    "hist_plot.set_title('Какого рода ивенты вы бы обязательно посетили? ')\n",
    "hist_plot.set_ylabel('Количество человек')"
   ]
  },
  {
   "cell_type": "code",
   "execution_count": null,
   "metadata": {},
   "outputs": [],
   "source": []
  },
  {
   "cell_type": "code",
   "execution_count": 35,
   "metadata": {},
   "outputs": [
    {
     "data": {
      "text/plain": [
       "Автобус/троллейбус                                       27\n",
       "Пешком                                                   16\n",
       "Метро                                                    10\n",
       "Автобус и пешком                                          1\n",
       "Автобус/такси+метро                                       1\n",
       "Метро, ноги                                               1\n",
       "Иногда метро, иногда автобус                              1\n",
       "пешкоом или самокате или на автобусе и редко на метро     1\n",
       "Name: Каким транспортом чаще всего пользуетесь?, dtype: int64"
      ]
     },
     "execution_count": 35,
     "metadata": {},
     "output_type": "execute_result"
    }
   ],
   "source": [
    "pd.value_counts(data['Каким транспортом чаще всего пользуетесь?'])"
   ]
  },
  {
   "cell_type": "code",
   "execution_count": 39,
   "metadata": {},
   "outputs": [
    {
     "data": {
      "text/plain": [
       "Часто           25\n",
       "Иногда          19\n",
       "Постоянно        9\n",
       "Редко            3\n",
       "Не занимаюсь     1\n",
       "Name: Как часто вы занимаетесь самообразованием?, dtype: int64"
      ]
     },
     "execution_count": 39,
     "metadata": {},
     "output_type": "execute_result"
    }
   ],
   "source": [
    "pd.value_counts(data['Как часто вы занимаетесь самообразованием?'])"
   ]
  },
  {
   "cell_type": "code",
   "execution_count": 41,
   "metadata": {},
   "outputs": [
    {
     "data": {
      "text/plain": [
       "Каждый день                 23\n",
       "Раз в неделю                17\n",
       "Не читаю                    10\n",
       "Раз в месяц                  6\n",
       "Раз в два или в три дня      1\n",
       "Несколько раз в неделю       1\n",
       "Name: Как часто вы читаете новости?, dtype: int64"
      ]
     },
     "execution_count": 41,
     "metadata": {},
     "output_type": "execute_result"
    }
   ],
   "source": [
    "pd.value_counts(data['Как часто вы читаете новости?'])"
   ]
  },
  {
   "cell_type": "code",
   "execution_count": 43,
   "metadata": {},
   "outputs": [
    {
     "data": {
      "text/plain": [
       "Социальные                                                                                       32\n",
       "Профессиональный                                                                                  8\n",
       "Политические                                                                                      3\n",
       "Все и сразу. Интересных событий много не бывает                                                   1\n",
       "все по немногу                                                                                    1\n",
       "Фандомные                                                                                         1\n",
       "Не читаю                                                                                          1\n",
       "фаст фуд новости                                                                                  1\n",
       "Из индустрии игр и по IT сфере, так же иногда смотрю социальные новости                           1\n",
       "все                                                                                               1\n",
       "Лайтовые новости и профессиональные                                                               1\n",
       "разные про технологию, политика,положение жизни в КР , игры , киноиндустрия                       1\n",
       "Игровые, а точнее, обновления разных артистов (@tobyfox, @_TeMMiE_TeM, theHub)                    1\n",
       "социальные и политические                                                                         1\n",
       "Не слежу за новостями                                                                             1\n",
       "Скорее больше узнаю о том, что происходит в мире или в стране, но профессиональные тоже читаю     1\n",
       "Информационный                                                                                    1\n",
       "Name: Какой род новостей вам интересен?, dtype: int64"
      ]
     },
     "execution_count": 43,
     "metadata": {},
     "output_type": "execute_result"
    }
   ],
   "source": [
    " pd.value_counts(data['Какой род новостей вам интересен?']) #преимущественно социальные и реже профессиональные"
   ]
  },
  {
   "cell_type": "markdown",
   "metadata": {},
   "source": [
    "# Статистика по гендеру - каким социальным сетям отдают предпочтение м и ж, опыт работы, и другие оставшиеся признаки"
   ]
  },
  {
   "cell_type": "code",
   "execution_count": 46,
   "metadata": {},
   "outputs": [],
   "source": [
    "female_data = data.loc[data['Пол'] == 'Женский', :]\n",
    "male_data = data.loc[data['Пол'] == 'Мужской', :] \n",
    "                                               "
   ]
  },
  {
   "cell_type": "code",
   "execution_count": 50,
   "metadata": {},
   "outputs": [
    {
     "data": {
      "text/plain": [
       "Да     17\n",
       "Нет     6\n",
       "Name: Считаете ли вы себя креативным человеком ?, dtype: int64"
      ]
     },
     "execution_count": 50,
     "metadata": {},
     "output_type": "execute_result"
    }
   ],
   "source": [
    "pd.value_counts(female_data['Считаете ли вы себя креативным человеком ?']) "
   ]
  },
  {
   "cell_type": "code",
   "execution_count": 51,
   "metadata": {},
   "outputs": [
    {
     "data": {
      "text/plain": [
       "73.91304347826086"
      ]
     },
     "execution_count": 51,
     "metadata": {},
     "output_type": "execute_result"
    }
   ],
   "source": [
    "17/23 * 100 - #73 процента девуше считает себя креативными"
   ]
  },
  {
   "cell_type": "code",
   "execution_count": 52,
   "metadata": {},
   "outputs": [
    {
     "data": {
      "text/plain": [
       "Да     21\n",
       "Нет    11\n",
       "Name: Считаете ли вы себя креативным человеком ?, dtype: int64"
      ]
     },
     "execution_count": 52,
     "metadata": {},
     "output_type": "execute_result"
    }
   ],
   "source": [
    "pd.value_counts(male_data['Считаете ли вы себя креативным человеком ?']) "
   ]
  },
  {
   "cell_type": "code",
   "execution_count": 53,
   "metadata": {},
   "outputs": [
    {
     "data": {
      "text/plain": [
       "65.625"
      ]
     },
     "execution_count": 53,
     "metadata": {},
     "output_type": "execute_result"
    }
   ],
   "source": [
    "21/32*100 #мужчины более самокритичны"
   ]
  },
  {
   "cell_type": "code",
   "execution_count": 59,
   "metadata": {},
   "outputs": [
    {
     "data": {
      "text/plain": [
       "Text(0, 0.5, 'Частота')"
      ]
     },
     "execution_count": 59,
     "metadata": {},
     "output_type": "execute_result"
    },
    {
     "data": {
      "image/png": "[encoded data removed]",
      "text/plain": [
       "<Figure size 432x288 with 1 Axes>"
      ]
     },
     "metadata": {
      "needs_background": "light"
     },
     "output_type": "display_data"
    }
   ],
   "source": [
    "#опыт работы среди девушек\n",
    "hist_plot = female_data['Имели/имеете ли вы опыт в трудовой деятельности?'].hist(bins = 20,color = \"pink\")\n",
    "hist_plot.set_title('Имели/имеете ли вы опыт в трудовой деятельности? - девушки')\n",
    "hist_plot.set_ylabel('Частота')"
   ]
  },
  {
   "cell_type": "code",
   "execution_count": 62,
   "metadata": {},
   "outputs": [
    {
     "data": {
      "text/plain": [
       "Text(0, 0.5, 'Частота')"
      ]
     },
     "execution_count": 62,
     "metadata": {},
     "output_type": "execute_result"
    },
    {
     "data": {
      "image/png": "[encoded data removed]",
      "text/plain": [
       "<Figure size 432x288 with 1 Axes>"
      ]
     },
     "metadata": {
      "needs_background": "light"
     },
     "output_type": "display_data"
    }
   ],
   "source": [
    "#Опыт работы среди среди парней\n",
    "\n",
    "hist_plot = male_data['Имели/имеете ли вы опыт в трудовой деятельности?'].hist(bins = 20,color = \"blue\")\n",
    "hist_plot.set_title('Имели/имеете ли вы опыт в трудовой деятельности? - парни')\n",
    "hist_plot.set_ylabel('Частота')"
   ]
  },
  {
   "cell_type": "code",
   "execution_count": 64,
   "metadata": {},
   "outputs": [
    {
     "data": {
      "text/plain": [
       "Index(['Отметка времени', 'Пол', 'Возраст',\n",
       "       'Выберите цвет, который нравится вам больше', 'Ваше хобби',\n",
       "       'Как много у вас свободного времени в неделю?',\n",
       "       'Как предпочитаете проводить свободное время?',\n",
       "       'Как часто вы бы смогли посещать мероприятия внутри сообщества?',\n",
       "       'Как удобнее вам посещать наши мероприятия?',\n",
       "       'Какого рода ивенты вы бы обязательно посетили? ',\n",
       "       'Каким транспортом чаще всего пользуетесь?',\n",
       "       'Как часто вы занимаетесь самообразованием?',\n",
       "       'Как часто вы читаете новости?', 'Какой род новостей вам интересен?',\n",
       "       'Считаете ли вы себя креативным человеком ?',\n",
       "       'Имели/имеете ли вы опыт в трудовой деятельности?',\n",
       "       'На какой социальной площадке вы проводите большую часть своего времени?',\n",
       "       'Как долго вы проводите время за экранами смартфонов/компьютеров за сутки?',\n",
       "       'Смотрите ли вы научно-популярные программы?',\n",
       "       'Что для вас в приоритете при совершении покупок?',\n",
       "       'Попробуйте описать Hub в двух словах'],\n",
       "      dtype='object')"
      ]
     },
     "execution_count": 64,
     "metadata": {},
     "output_type": "execute_result"
    }
   ],
   "source": [
    "data.columns"
   ]
  },
  {
   "cell_type": "code",
   "execution_count": 66,
   "metadata": {},
   "outputs": [],
   "source": [
    "#социальные сети - девушки что больше предпочитают \n"
   ]
  },
  {
   "cell_type": "code",
   "execution_count": 65,
   "metadata": {},
   "outputs": [
    {
     "data": {
      "text/plain": [
       "Instagram              10\n",
       "YouTube                 5\n",
       "TikTok                  5\n",
       "Instagram, telegram     1\n",
       "Telegram                1\n",
       "Инста и тикток          1\n",
       "Name: На какой социальной площадке вы проводите большую часть своего времени?, dtype: int64"
      ]
     },
     "execution_count": 65,
     "metadata": {},
     "output_type": "execute_result"
    }
   ],
   "source": [
    "pd.value_counts(female_data['На какой социальной площадке вы проводите большую часть своего времени?'])"
   ]
  },
  {
   "cell_type": "code",
   "execution_count": 67,
   "metadata": {},
   "outputs": [
    {
     "data": {
      "text/plain": [
       "YouTube                                                       11\n",
       "Instagram                                                     10\n",
       "TikTok                                                         3\n",
       "ВК, telegram, youtube, insta, twitter                          1\n",
       "ВКонтакте                                                      1\n",
       "ВК, Telegram, YouTube                                          1\n",
       "Телеге очень редко, а так не пользуюсь социальные площадки     1\n",
       "Insta & YouTube & Telegram                                     1\n",
       "Mangalib.ru                                                    1\n",
       "все 3                                                          1\n",
       "Telegram                                                       1\n",
       "Name: На какой социальной площадке вы проводите большую часть своего времени?, dtype: int64"
      ]
     },
     "execution_count": 67,
     "metadata": {},
     "output_type": "execute_result"
    }
   ],
   "source": [
    "# boys\n",
    "pd.value_counts(male_data['На какой социальной площадке вы проводите большую часть своего времени?'])"
   ]
  },
  {
   "cell_type": "code",
   "execution_count": 68,
   "metadata": {},
   "outputs": [],
   "source": [
    "#для всех самой популярной площадкой оказался инстаграм"
   ]
  },
  {
   "cell_type": "code",
   "execution_count": 70,
   "metadata": {},
   "outputs": [
    {
     "data": {
      "text/plain": [
       "Очень долго                  22\n",
       "От четырех до шести часов    19\n",
       "От двух до четырех часов     15\n",
       "От часа до двух часов         1\n",
       "Name: Как долго вы проводите время за экранами смартфонов/компьютеров за сутки?, dtype: int64"
      ]
     },
     "execution_count": 70,
     "metadata": {},
     "output_type": "execute_result"
    }
   ],
   "source": [
    "pd.value_counts(data['Как долго вы проводите время за экранами смартфонов/компьютеров за сутки?']) #для всех"
   ]
  },
  {
   "cell_type": "code",
   "execution_count": 71,
   "metadata": {},
   "outputs": [
    {
     "data": {
      "text/plain": [
       "Удобство            30\n",
       "Функциональность    23\n",
       "Внешний вид          3\n",
       "Статус               1\n",
       "Name: Что для вас в приоритете при совершении покупок?, dtype: int64"
      ]
     },
     "execution_count": 71,
     "metadata": {},
     "output_type": "execute_result"
    }
   ],
   "source": [
    "pd.value_counts(data['Что для вас в приоритете при совершении покупок?']) #для всех"
   ]
  },
  {
   "cell_type": "markdown",
   "metadata": {},
   "source": [
    "# Хобби в хабе (all boys and girls)"
   ]
  },
  {
   "cell_type": "code",
   "execution_count": 80,
   "metadata": {},
   "outputs": [
    {
     "data": {
      "text/plain": [
       "0                         Аниме, фильмы, сериалы, книги\n",
       "1                                                    Да\n",
       "2                                               Его нет\n",
       "3     Непосредственно, изучение языков программирова...\n",
       "4                Видеоигры, учу китайский, самообучение\n",
       "5                                              рисовать\n",
       "6     Люблю придумывать новые мелодии и из них созда...\n",
       "7                                       Баскетбол, игры\n",
       "8     Заниматься всем чем полезно и интересно, на да...\n",
       "9     играю на гитаре, сижу в форумах(it), ещё в каэ...\n",
       "10    Рисование, игра на музыкальных инструментах, с...\n",
       "11    Люблю снимать и монтировать видео, но качество...\n",
       "12    Петь, вышивать, танцевать, учить английский и ...\n",
       "13                                                  NaN\n",
       "14                           Диджитал арт, эдиты, аниме\n",
       "15                 В свободное время танцую, пишу стихи\n",
       "16    Музыка, игры, фильмы, баскетбол, книги, ранобэ...\n",
       "17         игра на гитаре, чтение книг, просмотр аниме \n",
       "18    определенного хобби нет, пытаюсь развиваться в...\n",
       "19                                     Программирование\n",
       "20                                     Учусь таргетингу\n",
       "21                                                 фото\n",
       "22    Чтение, просмотр фильмов/сериалов или роликов ...\n",
       "23    Интересуюсь гитарой (электро), но ее у меня не...\n",
       "24                                                games\n",
       "25                                       Graphic design\n",
       "26    Катаюсь на коньках, рисую картины по номерам, ...\n",
       "27                                            Гитарирую\n",
       "28       делаю аксессуары, рисую, чиллю, смотрю тиктоки\n",
       "29          веду ютуб каналы, играю в компуктерные игры\n",
       "30                       чилю по жизни и занимаюсь всем\n",
       "31                                              PC Игры\n",
       "32                                             чиллить \n",
       "33                                             Фотограф\n",
       "34                                    Танцы, психология\n",
       "35                                      Смотреть фильмы\n",
       "36                     Чтение, тратить деньги, танцы...\n",
       "37                 рисунок, книги, фильмы, сериалы, код\n",
       "38    Хобби понятие растяжимое но если рассматривать...\n",
       "39                                            В поиске \n",
       "40                                         чтение книг \n",
       "41                              Занимаюсь всем, но мало\n",
       "42    гитара, рисование, делать что-то руками, масте...\n",
       "43                            Гитара, разработка сайтов\n",
       "44                     Играть на гитаре,ходить в походы\n",
       "45                   Видеомантаж, чтение книг и манги, \n",
       "46                          Делать украшения из бисера \n",
       "47    Безумно радоваться новым для меня темами или в...\n",
       "48                                                  NaN\n",
       "49                                   снимать на телефон\n",
       "50                           Играть на укулеле и футбол\n",
       "51    Читать манги/книги в основном классику, рисова...\n",
       "52                                     Учить JavaScript\n",
       "53    Манга, книги, научные документации и плюс прог...\n",
       "54                                            Велосипед\n",
       "55    Аниме,Манга, Манхуа,Манхвы,игры с жанром страт...\n",
       "56    Читаю книги, люблю подкасты, топлю за саморазв...\n",
       "57                                         видеосъёмка \n",
       "Name: Ваше хобби, dtype: object"
      ]
     },
     "execution_count": 80,
     "metadata": {},
     "output_type": "execute_result"
    }
   ],
   "source": [
    "data['Ваше хобби'] #общая картина хобби "
   ]
  },
  {
   "cell_type": "code",
   "execution_count": 73,
   "metadata": {},
   "outputs": [],
   "source": [
    "from sklearn.feature_extraction.text import CountVectorizer"
   ]
  },
  {
   "cell_type": "markdown",
   "metadata": {},
   "source": [
    "# 4 человека танцуют"
   ]
  },
  {
   "cell_type": "code",
   "execution_count": 81,
   "metadata": {},
   "outputs": [
    {
     "data": {
      "text/plain": [
       "{'танцевать': 1, 'танцую': 1, 'Танцевать': 0, 'танцы': 1, 'Танцы': 1}"
      ]
     },
     "execution_count": 81,
     "metadata": {},
     "output_type": "execute_result"
    }
   ],
   "source": [
    "words_dance = ['танцевать', 'танцую', 'Танцевать', 'танцы', 'Танцы'] #поиск по ключевым словам\n",
    "dance = {w: data['Ваше хобби'].str.contains(w).sum() for w in words_dance}\n",
    "dance #dancing people are 4"
   ]
  },
  {
   "cell_type": "markdown",
   "metadata": {},
   "source": [
    "# геймеров 7+"
   ]
  },
  {
   "cell_type": "code",
   "execution_count": 83,
   "metadata": {},
   "outputs": [
    {
     "data": {
      "text/plain": [
       "{'Игры': 1, 'игры': 5, 'Видеоигры': 1, 'компьютерные': 0, 'видеоигры': 0}"
      ]
     },
     "execution_count": 83,
     "metadata": {},
     "output_type": "execute_result"
    }
   ],
   "source": [
    "words_games = ['Игры', 'игры', 'Видеоигры', 'компьютерные', 'видеоигры'] #поиск по ключевым словам\n",
    "games = {w: data['Ваше хобби'].str.contains(w).sum() for w in words_games}\n",
    "games #7 челолвек геймеры и не скрывают это"
   ]
  },
  {
   "cell_type": "markdown",
   "metadata": {},
   "source": [
    "# 8+ человек любят читать манги/книги"
   ]
  },
  {
   "cell_type": "code",
   "execution_count": 85,
   "metadata": {},
   "outputs": [
    {
     "data": {
      "text/plain": [
       "{'Читать': 1, 'Читаю': 1, 'Чтение': 2, 'читать': 0, 'чтение': 4, 'читаю': 0}"
      ]
     },
     "execution_count": 85,
     "metadata": {},
     "output_type": "execute_result"
    }
   ],
   "source": [
    "words_reading = ['Читать', 'Читаю', 'Чтение', 'читать', 'чтение', 'читаю'] #поиск по ключевым словам\n",
    "read = {w: data['Ваше хобби'].str.contains(w).sum() for w in words_reading}\n",
    "read "
   ]
  },
  {
   "cell_type": "markdown",
   "metadata": {},
   "source": [
    "# 9 человек играют на музыкальных инструментах и/или поют"
   ]
  },
  {
   "cell_type": "code",
   "execution_count": 87,
   "metadata": {},
   "outputs": [
    {
     "data": {
      "text/plain": [
       "{'Играть на': 2,\n",
       " 'играю на': 2,\n",
       " 'Гитара': 1,\n",
       " 'гитара': 1,\n",
       " 'петь': 0,\n",
       " 'Петь': 1,\n",
       " 'пою': 0,\n",
       " 'Пение': 0,\n",
       " 'гитарой': 1}"
      ]
     },
     "execution_count": 87,
     "metadata": {},
     "output_type": "execute_result"
    }
   ],
   "source": [
    "words_music = ['Играть на', 'играю на', 'Гитара', 'гитара','петь', 'Петь', 'пою', 'Пение','гитарой'] #поиск по ключевым словам\n",
    "music = {w: data['Ваше хобби'].str.contains(w).sum() for w in words_music}\n",
    "music"
   ]
  },
  {
   "cell_type": "markdown",
   "metadata": {},
   "source": [
    "# 14+ человек любят смотреть аниме/манги/сериалы/фильмы"
   ]
  },
  {
   "cell_type": "code",
   "execution_count": 88,
   "metadata": {},
   "outputs": [
    {
     "data": {
      "text/plain": [
       "{'Аниме': 2,\n",
       " 'аниме': 3,\n",
       " 'Манга': 2,\n",
       " 'манга': 0,\n",
       " 'сериалы': 2,\n",
       " 'фильмы': 5,\n",
       " 'Фильмы': 0}"
      ]
     },
     "execution_count": 88,
     "metadata": {},
     "output_type": "execute_result"
    }
   ],
   "source": [
    "words_series = ['Аниме', 'аниме', 'Манга', 'манга','сериалы', 'фильмы', 'Фильмы'] #поиск по ключевым словам\n",
    "series = {w: data['Ваше хобби'].str.contains(w).sum() for w in words_series}\n",
    "series"
   ]
  },
  {
   "cell_type": "markdown",
   "metadata": {},
   "source": [
    "# все остальные хобби уникальные"
   ]
  },
  {
   "cell_type": "markdown",
   "metadata": {},
   "source": [
    "# Отзывы о хабе"
   ]
  },
  {
   "cell_type": "code",
   "execution_count": 90,
   "metadata": {},
   "outputs": [
    {
     "data": {
      "text/plain": [
       "0                                       Сборище дебилов\n",
       "1                                                   NaN\n",
       "2                                          Свобода воли\n",
       "3                                     Восходящая звезда\n",
       "4                         Экстраординарный, лучший(!!!)\n",
       "5                                     развивайся - живи\n",
       "6                               Безграничное творчество\n",
       "7                                              Hub goda\n",
       "8                                       КЛАССНЫЕ ЧУВАКИ\n",
       "9     пока ничего не могу сказать, так как присоедин...\n",
       "10                                      Красный, чёрный\n",
       "11                             Хаб-шаг в современность?\n",
       "12                             Современное пространство\n",
       "13                                     Здесь интересно \n",
       "14                   Демократичный и весёлое сообщество\n",
       "15                                        Свобода слову\n",
       "16                                       Четко, могёте \n",
       "17                                                  NaN\n",
       "18    место, где человек может быть собой, и его за ...\n",
       "19                          Перспективная машина-убийца\n",
       "20                                    Новые возможности\n",
       "21                              интеллектуальные краши \n",
       "22                                         Пока неясный\n",
       "23                                  Приятное сообщество\n",
       "24                                      компания людей.\n",
       "25                                              Топ кой\n",
       "26                                      Разные личности\n",
       "27                                      Обучая обучаюсь\n",
       "28                                 BEST ORGANIZATION :)\n",
       "29                                   Сообщество гениев \n",
       "30                                    креатив и позитив\n",
       "31                       Единое тело со своими органами\n",
       "32                        прикольно креативно позитивно\n",
       "33                                              The Hub\n",
       "34                           Образовывающая организация\n",
       "35                                      universe inside\n",
       "36                Ничего не понятно, но очень интересно\n",
       "37                                   думаю интересно 🧐 \n",
       "38                                       Недоактивисты😬\n",
       "39    У этой идеи есть будущее, но нужно ещё работат...\n",
       "40                           интересно и познавательно \n",
       "41                   Уютное местечко с хорошими людьми)\n",
       "42                                    Крутая атмосфера \n",
       "43                                       Общий интерес \n",
       "44                                      Прикольный клуб\n",
       "45                       \"Много профильная\" организация\n",
       "46                       Целеустремлённые и амбициозные\n",
       "47    Пока что не чего сказать, но хочу узнать могу ...\n",
       "48                               подпольная организация\n",
       "49                                 отличная возможность\n",
       "50                                Возможности, развитие\n",
       "51                              Креативная организация \n",
       "52                                             Гачи хаб\n",
       "53                  Сборище умных, развивающих чуваков.\n",
       "54                       Шанс для айтишников в Политехе\n",
       "55               Хорошое общение, интресные мероприятия\n",
       "56     пока не сильно ознакомился, интересные, много...\n",
       "57                                           лучший хаб\n",
       "Name: Попробуйте описать Hub в двух словах, dtype: object"
      ]
     },
     "execution_count": 90,
     "metadata": {},
     "output_type": "execute_result"
    }
   ],
   "source": [
    "data['Попробуйте описать Hub в двух словах'] #даже анализировать не надо 99% положительные,но есть те,которые\n",
    "#не могут еще составить мнения"
   ]
  },
  {
   "cell_type": "code",
   "execution_count": null,
   "metadata": {},
   "outputs": [],
   "source": []
  }
 ],
 "metadata": {
  "kernelspec": {
   "display_name": "Python 3",
   "language": "python",
   "name": "python3"
  },
  "language_info": {
   "codemirror_mode": {
    "name": "ipython",
    "version": 3
   },
   "file_extension": ".py",
   "mimetype": "text/x-python",
   "name": "python",
   "nbconvert_exporter": "python",
   "pygments_lexer": "ipython3",
   "version": "3.8.5"
  }
 },
 "nbformat": 4,
 "nbformat_minor": 4
}
